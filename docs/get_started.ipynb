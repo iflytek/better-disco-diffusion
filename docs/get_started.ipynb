{
 "cells": [
  {
   "cell_type": "code",
   "execution_count": 1,
   "id": "12abf186-f23c-4c14-8bca-8f8d76777ad6",
   "metadata": {
    "pycharm": {
     "name": "#%%\n"
    }
   },
   "outputs": [],
   "source": [
    "from run import DDRunner"
   ]
  },
  {
   "cell_type": "code",
   "execution_count": 8,
   "id": "73d27d16-7e8a-436a-b2c6-d5cd139dbae4",
   "metadata": {
    "pycharm": {
     "name": "#%%\n"
    }
   },
   "outputs": [],
   "source": [
    "test_text_prompts = {\n",
    "    0: [\n",
    "        \"Under the sunset, the lake and mountains\",\n",
    "        \"yellow color scheme\"],\n",
    "}"
   ]
  },
  {
   "cell_type": "code",
   "execution_count": 3,
   "id": "fdec3c62-414b-451f-bab1-c36512c19028",
   "metadata": {
    "pycharm": {
     "name": "#%%\n"
    }
   },
   "outputs": [
    {
     "name": "stdout",
     "output_type": "stream",
     "text": [
      "Using device: cuda:0\n",
      "Setting up [LPIPS] perceptual loss: trunk [vgg], v[0.1], spatial [off]\n",
      "Loading model from: /opt/conda/envs/aiges/lib/python3.9/site-packages/lpips/weights/v0.1/vgg.pth\n",
      "steps :  20\n"
     ]
    }
   ],
   "source": [
    "ds = DDRunner(test_text_prompts)"
   ]
  },
  {
   "cell_type": "code",
   "execution_count": 6,
   "id": "bb659f5c-259e-46a0-aa5e-b922166e8e5d",
   "metadata": {
    "pycharm": {
     "name": "#%%\n"
    }
   },
   "outputs": [],
   "source": [
    "# 你可以在setup_args里设置众多参数，不设置则默认使用默认值 \n",
    "#def setup_args(self, text_prompts, display_rate=20, batch_size=1, steps=steps, width_height=width_height,\n",
    "#                    tv_scale=tv_scale,\n",
    "#                    range_scale=range_scale,\n",
    "#                    sat_scale=sat_scale, cutn_batches=cutn_batches, init_image=init_image, init_scale=init_scale,\n",
    "#                    skip_steps=skip_steps, side_x=side_x,\n",
    "#                    side_y=side_y, timestep_respacing=f'ddim{steps}',\n",
    "#                    diffusion_steps=(1000 // steps) * steps if steps < 1000 else steps,\n",
    "#                    resume_run=False):"
   ]
  },
  {
   "cell_type": "code",
   "execution_count": 9,
   "id": "5c687881-accd-425f-900b-4df6fe512db3",
   "metadata": {
    "pycharm": {
     "name": "#%%\n"
    }
   },
   "outputs": [
    {
     "name": "stdout",
     "output_type": "stream",
     "text": [
      "setup... , steps 50\n"
     ]
    }
   ],
   "source": [
    "ds.setup_args(test_text_prompts, width_height=[1280, 768], steps=50)"
   ]
  },
  {
   "cell_type": "code",
   "execution_count": null,
   "id": "dda0e539-4a83-422d-a256-e9141893da47",
   "metadata": {
    "pycharm": {
     "name": "#%%\n",
     "is_executing": true
    }
   },
   "outputs": [],
   "source": [
    "ds.run(\"image2.png\")"
   ]
  },
  {
   "cell_type": "code",
   "execution_count": null,
   "id": "57caf287-5929-45cb-9568-09b704f8a2f8",
   "metadata": {
    "pycharm": {
     "name": "#%%\n"
    }
   },
   "outputs": [],
   "source": []
  },
  {
   "cell_type": "code",
   "execution_count": null,
   "id": "4bb5afd4-5dce-4ad6-b494-3faa0258bcb4",
   "metadata": {
    "pycharm": {
     "name": "#%%\n"
    }
   },
   "outputs": [],
   "source": []
  }
 ],
 "metadata": {
  "kernelspec": {
   "display_name": "Python 3 (ipykernel)",
   "language": "python",
   "name": "python3"
  },
  "language_info": {
   "codemirror_mode": {
    "name": "ipython",
    "version": 3
   },
   "file_extension": ".py",
   "mimetype": "text/x-python",
   "name": "python",
   "nbconvert_exporter": "python",
   "pygments_lexer": "ipython3",
   "version": "3.9.15"
  }
 },
 "nbformat": 4,
 "nbformat_minor": 5
}